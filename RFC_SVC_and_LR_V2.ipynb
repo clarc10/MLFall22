{
  "metadata": {
    "language_info": {
      "codemirror_mode": {
        "name": "python",
        "version": 3
      },
      "file_extension": ".py",
      "mimetype": "text/x-python",
      "name": "python",
      "nbconvert_exporter": "python",
      "pygments_lexer": "ipython3",
      "version": "3.8"
    },
    "kernelspec": {
      "name": "python",
      "display_name": "Python (Pyodide)",
      "language": "python"
    }
  },
  "nbformat_minor": 4,
  "nbformat": 4,
  "cells": [
    {
      "cell_type": "code",
      "source": "#The goal is to predict class of incidents, there are 2 types of classes specified in this version\n\n# Importing the libraries\nimport numpy as np\nimport matplotlib.pyplot as plt\nimport pandas as pd\nimport sklearn\nimport random\n\n\nimport io\n#Read all 66 data points\ndf0 = pd.read_csv(\"MyData.csv\")\n#Read training data\ndf = pd.read_csv(\"TrainingData.csv\")\n#Read test data\ndf1 = pd.read_csv(\"TestData.csv\")\n#Read validation data\ndf2 = pd.read_csv(\"ValidationData.csv\")\n\n#grouping x and y train data\nx_train= df.iloc[:,:-1] #There are 3 features selected :operational state, phase of chemical(s) and number of chemical(s)\ny_train=df.iloc[:,-1] #Accident type classification from last column\n\n#print(x_train)\n#print(y_train)\n\n#grouping x and y test data\nx_test= df1.iloc[:,:-1] #There are 3 features selected :operational state, phase of chemical(s) and number of chemical(s)\ny_test=df1.iloc[:,-1] #Accident type classification from last column\n\n#print(x_test)\n#print(y_test)\n\n#grouping x and y validation data\nx_val= df2.iloc[:,:-1] #There are 3 features selected :operational state, phase of chemical(s) and number of chemical(s)\ny_val=df2.iloc[:,-1] #Accident type classification from last column\n\n#print(x_val)\n#print(y_val)\n\n#Importing Random Forest Classifier from sklearn\nfrom sklearn.ensemble import RandomForestClassifier\n\n#Creating object for ensemble named randomForestClassifier (rfc). It has 100 numbers of estimators (models or trees) since looking to have deterministic behavior\n#Must also fit array (input,output) to random forest classifier\n\nrfc= RandomForestClassifier(n_estimators=10,random_state=0,bootstrap='true', oob_score='true').fit(x_train,y_train)\n\n#bootstrap='true',oob_score='true'\n\n\n#Added random_state=0 and now output shows deterministic behavior.\n#If the estimator’s random_state parameter is an integer (or if the estimator doesn’t have a random_state parameter), \n#an exact clone is returned: the clone and the original estimator will give the exact same results. Otherwise, statistical \n#clone is returned: the clone might yield different results from the original estimator. More details can be found in Controlling randomness.\n\ny_pred= rfc.predict(x_test)\nprint('Incident Prediction:',y_pred)\n\n#Import scikit-learn metrics module for accuracy calculation\nfrom sklearn import metrics\n\n# Model Accuracy, how often is the classifier correct?\nprint('Accuracy:',metrics.accuracy_score(y_test, y_pred))\n\n#Evaluating the random forest classifier\nfrom sklearn.metrics import classification_report\n\nprint(classification_report(y_test,y_pred, zero_division=0))\n#print('Confusion Matrix:',confusion_matrix(y_test,y_pred))\n\nprint('OOB Score:', rfc.oob_score_)\nprint('Score Training:', rfc.score(x_train,y_train))\nprint('Score Test:', rfc.score(x_test,y_test))",
      "metadata": {
        "trusted": true
      },
      "execution_count": 35,
      "outputs": [
        {
          "name": "stdout",
          "text": "Incident Prediction: ['Y1' 'Y1' 'Y2' 'Y1' 'Y1' 'Y1' 'Y1' 'Y2' 'Y2']\nAccuracy: 0.8888888888888888\n              precision    recall  f1-score   support\n\n          Y1       1.00      0.86      0.92         7\n          Y2       0.67      1.00      0.80         2\n\n    accuracy                           0.89         9\n   macro avg       0.83      0.93      0.86         9\nweighted avg       0.93      0.89      0.90         9\n\nOOB Score: 1.0\nScore Training: 1.0\nScore Test: 0.8888888888888888\n",
          "output_type": "stream"
        }
      ]
    },
    {
      "cell_type": "code",
      "source": "#linear Support Vector Classifier\n\nfrom sklearn import svm\n\nsvcrfc= svm.SVC(kernel='linear', C=1.0, random_state=0,decision_function_shape='ovr', class_weight='balanced').fit(x_train,y_train)\n#class_weight='balanced' decreaces accuracy\n\nynew_pred= svcrfc.predict(x_test)\nprint('Incident Prediction:',ynew_pred)\n\nfrom sklearn import metrics\n\nprint('Accuracy:',metrics.accuracy_score(y_test, ynew_pred))\n\n#Evaluating LSVC\nfrom sklearn.metrics import classification_report\nprint(classification_report(y_test,ynew_pred, zero_division=0))\n",
      "metadata": {
        "trusted": true
      },
      "execution_count": 36,
      "outputs": [
        {
          "name": "stdout",
          "text": "Incident Prediction: ['Y1' 'Y1' 'Y2' 'Y1' 'Y1' 'Y2' 'Y1' 'Y2' 'Y2']\nAccuracy: 0.7777777777777778\n              precision    recall  f1-score   support\n\n          Y1       1.00      0.71      0.83         7\n          Y2       0.50      1.00      0.67         2\n\n    accuracy                           0.78         9\n   macro avg       0.75      0.86      0.75         9\nweighted avg       0.89      0.78      0.80         9\n\n",
          "output_type": "stream"
        }
      ]
    },
    {
      "cell_type": "code",
      "source": "#logistic Regression\nfrom sklearn.linear_model import LogisticRegression\n\nfrom sklearn.metrics import classification_report\n\nlrrfc= LogisticRegression(random_state=0,max_iter=600).fit(x_train,y_train)\n\ny2new_pred= svcrfc.predict(x_test)\nprint('Incident Prediction:',y2new_pred)\n\nfrom sklearn import metrics\n\nprint('Accuracy:',metrics.accuracy_score(y_test, y2new_pred))\n\n#Evaluating LSVC\nfrom sklearn.metrics import classification_report\nprint(classification_report(y_test,ynew_pred, zero_division=0))",
      "metadata": {
        "trusted": true
      },
      "execution_count": 37,
      "outputs": [
        {
          "name": "stdout",
          "text": "Incident Prediction: ['Y1' 'Y1' 'Y2' 'Y1' 'Y1' 'Y2' 'Y1' 'Y2' 'Y2']\nAccuracy: 0.7777777777777778\n              precision    recall  f1-score   support\n\n          Y1       1.00      0.71      0.83         7\n          Y2       0.50      1.00      0.67         2\n\n    accuracy                           0.78         9\n   macro avg       0.75      0.86      0.75         9\nweighted avg       0.89      0.78      0.80         9\n\n",
          "output_type": "stream"
        }
      ]
    },
    {
      "cell_type": "code",
      "source": "#Testing rfc with validation data\ny_pred1= rfc.predict(x_val)\nprint('Incident Prediction:',y_pred1)\n\n# Evaluating model accuracy and how often the classifier is correct?\nprint('Accuracy:',metrics.accuracy_score(y_val, y_pred1))\n\n#Output classification report\nprint(classification_report(y_val,y_pred1, zero_division=0))",
      "metadata": {
        "trusted": true
      },
      "execution_count": 38,
      "outputs": [
        {
          "name": "stdout",
          "text": "Incident Prediction: ['Y1' 'Y1' 'Y1' 'Y1' 'Y1' 'Y1' 'Y1' 'Y1' 'Y2' 'Y2']\nAccuracy: 1.0\n              precision    recall  f1-score   support\n\n          Y1       1.00      1.00      1.00         8\n          Y2       1.00      1.00      1.00         2\n\n    accuracy                           1.00        10\n   macro avg       1.00      1.00      1.00        10\nweighted avg       1.00      1.00      1.00        10\n\n",
          "output_type": "stream"
        }
      ]
    },
    {
      "cell_type": "code",
      "source": "#Testing svcrfc with validation data\n\nynew_pred1= svcrfc.predict(x_val)\nprint('Incident Prediction:',ynew_pred1)\n\n# Evaluating model accuracy and how often the classifier is correct?\nprint('Accuracy:',metrics.accuracy_score(y_val, ynew_pred1))\n\n#Output classification report\nprint(classification_report(y_val,ynew_pred1, zero_division=0))",
      "metadata": {
        "trusted": true
      },
      "execution_count": 39,
      "outputs": [
        {
          "name": "stdout",
          "text": "Incident Prediction: ['Y1' 'Y1' 'Y1' 'Y1' 'Y1' 'Y1' 'Y1' 'Y1' 'Y2' 'Y2']\nAccuracy: 1.0\n              precision    recall  f1-score   support\n\n          Y1       1.00      1.00      1.00         8\n          Y2       1.00      1.00      1.00         2\n\n    accuracy                           1.00        10\n   macro avg       1.00      1.00      1.00        10\nweighted avg       1.00      1.00      1.00        10\n\n",
          "output_type": "stream"
        }
      ]
    },
    {
      "cell_type": "code",
      "source": "#Testing lrrfc with validation data\n\ny2new_pred1= lrrfc.predict(x_val)\nprint('Incident Prediction:',y2new_pred1)\n\n# Evaluating model accuracy and how often the classifier is correct?\nprint('Accuracy:',metrics.accuracy_score(y_val, y2new_pred1))\n\n#Output classification report\nprint(classification_report(y_val,y2new_pred1, zero_division=0))",
      "metadata": {
        "trusted": true
      },
      "execution_count": 40,
      "outputs": [
        {
          "name": "stdout",
          "text": "Incident Prediction: ['Y1' 'Y1' 'Y1' 'Y1' 'Y1' 'Y1' 'Y1' 'Y1' 'Y2' 'Y2']\nAccuracy: 1.0\n              precision    recall  f1-score   support\n\n          Y1       1.00      1.00      1.00         8\n          Y2       1.00      1.00      1.00         2\n\n    accuracy                           1.00        10\n   macro avg       1.00      1.00      1.00        10\nweighted avg       1.00      1.00      1.00        10\n\n",
          "output_type": "stream"
        }
      ]
    },
    {
      "cell_type": "code",
      "source": "",
      "metadata": {},
      "execution_count": null,
      "outputs": []
    }
  ]
}