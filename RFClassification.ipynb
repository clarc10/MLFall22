{
  "metadata": {
    "language_info": {
      "codemirror_mode": {
        "name": "python",
        "version": 3
      },
      "file_extension": ".py",
      "mimetype": "text/x-python",
      "name": "python",
      "nbconvert_exporter": "python",
      "pygments_lexer": "ipython3",
      "version": "3.8"
    },
    "kernelspec": {
      "name": "python",
      "display_name": "Python (Pyodide)",
      "language": "python"
    }
  },
  "nbformat_minor": 4,
  "nbformat": 4,
  "cells": [
    {
      "cell_type": "code",
      "source": "#The goal is to predict class of incidents, there are 4 types of incidents.\n\n# Importing the libraries\nimport numpy as np\nimport matplotlib.pyplot as plt\nimport pandas as pd\nimport sklearn\nimport random",
      "metadata": {
        "trusted": true
      },
      "execution_count": 63,
      "outputs": []
    },
    {
      "cell_type": "code",
      "source": "import io\n#Read all 66 data points\ndf0 = pd.read_csv(\"MyData.csv\")\n#Read training data\ndf = pd.read_csv(\"TrainingData.csv\")\n#Read test data\ndf1 = pd.read_csv(\"TestData.csv\")\n#Read validation data\ndf2 = pd.read_csv(\"ValidationData.csv\")",
      "metadata": {
        "trusted": true
      },
      "execution_count": 66,
      "outputs": []
    },
    {
      "cell_type": "code",
      "source": "#grouping x and y train data\nx_train= df.iloc[:,:-1] #There are 3 features selected :operational state, phase of chemical(s) and number of chemical(s)\ny_train=df.iloc[:,-1] #Accident type classification from last column\n\n#print(x_train)\n#print(y_train)\n\n#grouping x and y test data\nx_test= df1.iloc[:,:-1] #There are 3 features selected :operational state, phase of chemical(s) and number of chemical(s)\ny_test=df1.iloc[:,-1] #Accident type classification from last column\n\n#print(x_test)\n#print(y_test)\n\n#grouping x and y validation data\nx_val= df2.iloc[:,:-1] #There are 3 features selected :operational state, phase of chemical(s) and number of chemical(s)\ny_val=df2.iloc[:,-1] #Accident type classification from last column\n\n#print(x_val)\n#print(y_val)\n\n#Importing Random Forest Classifier from sklearn\nfrom sklearn.ensemble import RandomForestClassifier\n\n#Creating object for ensemble named randomForestClassifier (rfc). It has 100 numbers of estimators (models or trees) since looking to have deterministic behavior\n#Must also fit array (input,output) to random forest classifier\n\nrfc= RandomForestClassifier(n_estimators=100,random_state=0).fit(x_train,y_train)\n\n#Added random_state=0 and now output shows deterministic behavior.\n#If the estimator’s random_state parameter is an integer (or if the estimator doesn’t have a random_state parameter), \n#an exact clone is returned: the clone and the original estimator will give the exact same results. Otherwise, statistical \n#clone is returned: the clone might yield different results from the original estimator. More details can be found in Controlling randomness.\n\ny_pred= rfc.predict(x_test)\nprint('Incident Prediction:',y_pred)\n\n#Import scikit-learn metrics module for accuracy calculation\nfrom sklearn import metrics\n\n# Model Accuracy, how often is the classifier correct?\nprint('Accuracy:',metrics.accuracy_score(y_test, y_pred))\n\n#Evaluating the random forest classifier\nfrom sklearn.metrics import classification_report\n\nprint(classification_report(y_test,y_pred, zero_division=0))\n#print('Confusion Matrix:',confusion_matrix(y_test,y_pred))\n",
      "metadata": {
        "trusted": true
      },
      "execution_count": 98,
      "outputs": [
        {
          "name": "stdout",
          "text": "Incident Prediction: ['Y2' 'X1' 'Y1' 'X1' 'Y1' 'Y1' 'Y1' 'Y1' 'Y1' 'Y1' 'Y1']\nAccuracy: 0.5454545454545454\n              precision    recall  f1-score   support\n\n          X1       0.00      0.00      0.00         2\n          X2       0.00      0.00      0.00         1\n          Y1       0.75      0.75      0.75         8\n          Y2       0.00      0.00      0.00         0\n\n    accuracy                           0.55        11\n   macro avg       0.19      0.19      0.19        11\nweighted avg       0.55      0.55      0.55        11\n\n",
          "output_type": "stream"
        }
      ]
    },
    {
      "cell_type": "code",
      "source": "#Testing rfc with validation data\ny_pred1= rfc.predict(x_val)\nprint('Incident Prediction:',y_pred1)\n\n# Evaluating model accuracy and how often the classifier is correct?\nprint('Accuracy:',metrics.accuracy_score(y_val, y_pred1))\n\n#Output classification report\nprint(classification_report(y_val,y_pred1, zero_division=0))",
      "metadata": {
        "trusted": true
      },
      "execution_count": 99,
      "outputs": [
        {
          "name": "stdout",
          "text": "Incident Prediction: ['Y2' 'X1' 'Y1' 'Y2' 'Y2' 'Y1' 'Y1' 'Y1' 'Y1' 'Y1' 'Y1']\nAccuracy: 0.6363636363636364\n              precision    recall  f1-score   support\n\n          X1       0.00      0.00      0.00         1\n          X2       0.00      0.00      0.00         2\n          Y1       0.71      0.83      0.77         6\n          Y2       0.67      1.00      0.80         2\n\n    accuracy                           0.64        11\n   macro avg       0.35      0.46      0.39        11\nweighted avg       0.51      0.64      0.57        11\n\n",
          "output_type": "stream"
        }
      ]
    },
    {
      "cell_type": "code",
      "source": "#Next Step would be to find important features",
      "metadata": {},
      "execution_count": null,
      "outputs": []
    }
  ]
}